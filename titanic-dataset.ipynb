{
 "cells": [
  {
   "cell_type": "markdown",
   "id": "0f628ae1",
   "metadata": {
    "papermill": {
     "duration": 0.004427,
     "end_time": "2023-12-17T14:12:02.197673",
     "exception": false,
     "start_time": "2023-12-17T14:12:02.193246",
     "status": "completed"
    },
    "tags": []
   },
   "source": [
    "**These steps are followed to get some information about the data**\n",
    "1. How big si the data?\n",
    "2. How does the data look like?\n",
    "3. What was the datatype of all features/cols of dataset?\n",
    "4. Are there is any missing value in dataset?\n",
    "5. How does the data look like mathematiclly?\n",
    "6. Are there is any dulicate values in data?\n",
    "7. There is any relation between the data?"
   ]
  },
  {
   "cell_type": "code",
   "execution_count": 1,
   "id": "dbb8408f",
   "metadata": {
    "_cell_guid": "f755c4e8-7e3b-4ed3-a690-d46deea97642",
    "_uuid": "209ddd92-8f02-4f94-8b56-eb7a68d7c6ec",
    "collapsed": false,
    "execution": {
     "iopub.execute_input": "2023-12-17T14:12:02.207651Z",
     "iopub.status.busy": "2023-12-17T14:12:02.207119Z",
     "iopub.status.idle": "2023-12-17T14:12:02.525149Z",
     "shell.execute_reply": "2023-12-17T14:12:02.523872Z"
    },
    "jupyter": {
     "outputs_hidden": false
    },
    "papermill": {
     "duration": 0.326625,
     "end_time": "2023-12-17T14:12:02.528298",
     "exception": false,
     "start_time": "2023-12-17T14:12:02.201673",
     "status": "completed"
    },
    "tags": []
   },
   "outputs": [],
   "source": [
    "import pandas as pd\n",
    "import numpy as np\n"
   ]
  },
  {
   "cell_type": "code",
   "execution_count": 2,
   "id": "3ddaefa5",
   "metadata": {
    "_cell_guid": "385b4b23-f1ca-442a-81bc-ee1926d9b133",
    "_uuid": "4ed43247-d0c7-441b-bafe-e685d314103a",
    "collapsed": false,
    "execution": {
     "iopub.execute_input": "2023-12-17T14:12:02.539225Z",
     "iopub.status.busy": "2023-12-17T14:12:02.538615Z",
     "iopub.status.idle": "2023-12-17T14:12:02.559701Z",
     "shell.execute_reply": "2023-12-17T14:12:02.558386Z"
    },
    "jupyter": {
     "outputs_hidden": false
    },
    "papermill": {
     "duration": 0.02994,
     "end_time": "2023-12-17T14:12:02.562565",
     "exception": false,
     "start_time": "2023-12-17T14:12:02.532625",
     "status": "completed"
    },
    "tags": []
   },
   "outputs": [],
   "source": [
    "df = pd.read_csv('/kaggle/input/titanic/train.csv')"
   ]
  },
  {
   "cell_type": "markdown",
   "id": "d4325800",
   "metadata": {
    "papermill": {
     "duration": 0.004769,
     "end_time": "2023-12-17T14:12:02.571592",
     "exception": false,
     "start_time": "2023-12-17T14:12:02.566823",
     "status": "completed"
    },
    "tags": []
   },
   "source": [
    "## --These steps are followed to get some information about the data"
   ]
  },
  {
   "cell_type": "markdown",
   "id": "b789a174",
   "metadata": {
    "_cell_guid": "f9cbeed7-4a16-4b56-a96b-2ae2d4d7ba9e",
    "_uuid": "afe19dab-b1fb-4fab-8266-760c83f85f84",
    "papermill": {
     "duration": 0.00432,
     "end_time": "2023-12-17T14:12:02.580468",
     "exception": false,
     "start_time": "2023-12-17T14:12:02.576148",
     "status": "completed"
    },
    "tags": []
   },
   "source": [
    "### 1. How big is the data?"
   ]
  },
  {
   "cell_type": "code",
   "execution_count": 3,
   "id": "c737c5ec",
   "metadata": {
    "_cell_guid": "86acf21b-b4a2-45f3-ac46-5d9c78e33249",
    "_uuid": "73e0f6e2-1f61-4080-9905-acbac6bd2821",
    "collapsed": false,
    "execution": {
     "iopub.execute_input": "2023-12-17T14:12:02.589795Z",
     "iopub.status.busy": "2023-12-17T14:12:02.589418Z",
     "iopub.status.idle": "2023-12-17T14:12:02.595958Z",
     "shell.execute_reply": "2023-12-17T14:12:02.595162Z"
    },
    "jupyter": {
     "outputs_hidden": false
    },
    "papermill": {
     "duration": 0.01314,
     "end_time": "2023-12-17T14:12:02.597515",
     "exception": false,
     "start_time": "2023-12-17T14:12:02.584375",
     "status": "completed"
    },
    "tags": []
   },
   "outputs": [
    {
     "data": {
      "text/plain": [
       "(891, 12)"
      ]
     },
     "execution_count": 3,
     "metadata": {},
     "output_type": "execute_result"
    }
   ],
   "source": [
    "df.shape"
   ]
  },
  {
   "cell_type": "markdown",
   "id": "5ca24d9d",
   "metadata": {
    "_cell_guid": "2f88b1de-eccf-40a3-9af7-1b934ad8cf95",
    "_uuid": "a5070367-3612-4543-a3f2-2d3c72ea7005",
    "papermill": {
     "duration": 0.00368,
     "end_time": "2023-12-17T14:12:02.605527",
     "exception": false,
     "start_time": "2023-12-17T14:12:02.601847",
     "status": "completed"
    },
    "tags": []
   },
   "source": [
    "### 2. How does the data look like?"
   ]
  },
  {
   "cell_type": "code",
   "execution_count": 4,
   "id": "25594f90",
   "metadata": {
    "_cell_guid": "62929c0a-a5ad-4871-a861-efbc235d0f51",
    "_uuid": "9e08f564-9abf-4949-8927-36ff440174aa",
    "collapsed": false,
    "execution": {
     "iopub.execute_input": "2023-12-17T14:12:02.615755Z",
     "iopub.status.busy": "2023-12-17T14:12:02.614472Z",
     "iopub.status.idle": "2023-12-17T14:12:02.647988Z",
     "shell.execute_reply": "2023-12-17T14:12:02.646818Z"
    },
    "jupyter": {
     "outputs_hidden": false
    },
    "papermill": {
     "duration": 0.040887,
     "end_time": "2023-12-17T14:12:02.650254",
     "exception": false,
     "start_time": "2023-12-17T14:12:02.609367",
     "status": "completed"
    },
    "tags": []
   },
   "outputs": [
    {
     "data": {
      "text/html": [
       "<div>\n",
       "<style scoped>\n",
       "    .dataframe tbody tr th:only-of-type {\n",
       "        vertical-align: middle;\n",
       "    }\n",
       "\n",
       "    .dataframe tbody tr th {\n",
       "        vertical-align: top;\n",
       "    }\n",
       "\n",
       "    .dataframe thead th {\n",
       "        text-align: right;\n",
       "    }\n",
       "</style>\n",
       "<table border=\"1\" class=\"dataframe\">\n",
       "  <thead>\n",
       "    <tr style=\"text-align: right;\">\n",
       "      <th></th>\n",
       "      <th>PassengerId</th>\n",
       "      <th>Survived</th>\n",
       "      <th>Pclass</th>\n",
       "      <th>Name</th>\n",
       "      <th>Sex</th>\n",
       "      <th>Age</th>\n",
       "      <th>SibSp</th>\n",
       "      <th>Parch</th>\n",
       "      <th>Ticket</th>\n",
       "      <th>Fare</th>\n",
       "      <th>Cabin</th>\n",
       "      <th>Embarked</th>\n",
       "    </tr>\n",
       "  </thead>\n",
       "  <tbody>\n",
       "    <tr>\n",
       "      <th>443</th>\n",
       "      <td>444</td>\n",
       "      <td>1</td>\n",
       "      <td>2</td>\n",
       "      <td>Reynaldo, Ms. Encarnacion</td>\n",
       "      <td>female</td>\n",
       "      <td>28.0</td>\n",
       "      <td>0</td>\n",
       "      <td>0</td>\n",
       "      <td>230434</td>\n",
       "      <td>13.00</td>\n",
       "      <td>NaN</td>\n",
       "      <td>S</td>\n",
       "    </tr>\n",
       "    <tr>\n",
       "      <th>683</th>\n",
       "      <td>684</td>\n",
       "      <td>0</td>\n",
       "      <td>3</td>\n",
       "      <td>Goodwin, Mr. Charles Edward</td>\n",
       "      <td>male</td>\n",
       "      <td>14.0</td>\n",
       "      <td>5</td>\n",
       "      <td>2</td>\n",
       "      <td>CA 2144</td>\n",
       "      <td>46.90</td>\n",
       "      <td>NaN</td>\n",
       "      <td>S</td>\n",
       "    </tr>\n",
       "    <tr>\n",
       "      <th>651</th>\n",
       "      <td>652</td>\n",
       "      <td>1</td>\n",
       "      <td>2</td>\n",
       "      <td>Doling, Miss. Elsie</td>\n",
       "      <td>female</td>\n",
       "      <td>18.0</td>\n",
       "      <td>0</td>\n",
       "      <td>1</td>\n",
       "      <td>231919</td>\n",
       "      <td>23.00</td>\n",
       "      <td>NaN</td>\n",
       "      <td>S</td>\n",
       "    </tr>\n",
       "    <tr>\n",
       "      <th>365</th>\n",
       "      <td>366</td>\n",
       "      <td>0</td>\n",
       "      <td>3</td>\n",
       "      <td>Adahl, Mr. Mauritz Nils Martin</td>\n",
       "      <td>male</td>\n",
       "      <td>30.0</td>\n",
       "      <td>0</td>\n",
       "      <td>0</td>\n",
       "      <td>C 7076</td>\n",
       "      <td>7.25</td>\n",
       "      <td>NaN</td>\n",
       "      <td>S</td>\n",
       "    </tr>\n",
       "    <tr>\n",
       "      <th>865</th>\n",
       "      <td>866</td>\n",
       "      <td>1</td>\n",
       "      <td>2</td>\n",
       "      <td>Bystrom, Mrs. (Karolina)</td>\n",
       "      <td>female</td>\n",
       "      <td>42.0</td>\n",
       "      <td>0</td>\n",
       "      <td>0</td>\n",
       "      <td>236852</td>\n",
       "      <td>13.00</td>\n",
       "      <td>NaN</td>\n",
       "      <td>S</td>\n",
       "    </tr>\n",
       "  </tbody>\n",
       "</table>\n",
       "</div>"
      ],
      "text/plain": [
       "     PassengerId  Survived  Pclass                            Name     Sex  \\\n",
       "443          444         1       2       Reynaldo, Ms. Encarnacion  female   \n",
       "683          684         0       3     Goodwin, Mr. Charles Edward    male   \n",
       "651          652         1       2             Doling, Miss. Elsie  female   \n",
       "365          366         0       3  Adahl, Mr. Mauritz Nils Martin    male   \n",
       "865          866         1       2        Bystrom, Mrs. (Karolina)  female   \n",
       "\n",
       "      Age  SibSp  Parch   Ticket   Fare Cabin Embarked  \n",
       "443  28.0      0      0   230434  13.00   NaN        S  \n",
       "683  14.0      5      2  CA 2144  46.90   NaN        S  \n",
       "651  18.0      0      1   231919  23.00   NaN        S  \n",
       "365  30.0      0      0   C 7076   7.25   NaN        S  \n",
       "865  42.0      0      0   236852  13.00   NaN        S  "
      ]
     },
     "execution_count": 4,
     "metadata": {},
     "output_type": "execute_result"
    }
   ],
   "source": [
    "# df.head(10) # This give first 10 rows of data\n",
    "df.sample(5) # This give random 5 rows of data"
   ]
  },
  {
   "cell_type": "markdown",
   "id": "36cbffd1",
   "metadata": {
    "_cell_guid": "67fe0fc8-ed71-4d1e-a15d-548af4aa9c60",
    "_uuid": "82dbd11d-7581-4a2d-b2a9-96231842a723",
    "papermill": {
     "duration": 0.004272,
     "end_time": "2023-12-17T14:12:02.659421",
     "exception": false,
     "start_time": "2023-12-17T14:12:02.655149",
     "status": "completed"
    },
    "tags": []
   },
   "source": [
    "### 3. What was the datatype of all features/cols of dataset"
   ]
  },
  {
   "cell_type": "code",
   "execution_count": 5,
   "id": "5c3ff5b3",
   "metadata": {
    "_cell_guid": "1fd79c10-4ef9-4f12-b293-6ebefcbc01dd",
    "_uuid": "5edd4d9c-ea20-4683-8c72-a2184c47be2c",
    "collapsed": false,
    "execution": {
     "iopub.execute_input": "2023-12-17T14:12:02.669393Z",
     "iopub.status.busy": "2023-12-17T14:12:02.669069Z",
     "iopub.status.idle": "2023-12-17T14:12:02.688978Z",
     "shell.execute_reply": "2023-12-17T14:12:02.688214Z"
    },
    "jupyter": {
     "outputs_hidden": false
    },
    "papermill": {
     "duration": 0.02777,
     "end_time": "2023-12-17T14:12:02.691389",
     "exception": false,
     "start_time": "2023-12-17T14:12:02.663619",
     "status": "completed"
    },
    "tags": []
   },
   "outputs": [
    {
     "name": "stdout",
     "output_type": "stream",
     "text": [
      "<class 'pandas.core.frame.DataFrame'>\n",
      "RangeIndex: 891 entries, 0 to 890\n",
      "Data columns (total 12 columns):\n",
      " #   Column       Non-Null Count  Dtype  \n",
      "---  ------       --------------  -----  \n",
      " 0   PassengerId  891 non-null    int64  \n",
      " 1   Survived     891 non-null    int64  \n",
      " 2   Pclass       891 non-null    int64  \n",
      " 3   Name         891 non-null    object \n",
      " 4   Sex          891 non-null    object \n",
      " 5   Age          714 non-null    float64\n",
      " 6   SibSp        891 non-null    int64  \n",
      " 7   Parch        891 non-null    int64  \n",
      " 8   Ticket       891 non-null    object \n",
      " 9   Fare         891 non-null    float64\n",
      " 10  Cabin        204 non-null    object \n",
      " 11  Embarked     889 non-null    object \n",
      "dtypes: float64(2), int64(5), object(5)\n",
      "memory usage: 83.7+ KB\n"
     ]
    }
   ],
   "source": [
    "df.info()"
   ]
  },
  {
   "cell_type": "markdown",
   "id": "38b83518",
   "metadata": {
    "_cell_guid": "9dab71d3-adfb-41f4-b2e0-c86174d3e772",
    "_uuid": "6d3c80f2-d17a-47fb-a00c-5fbc3f0390e0",
    "papermill": {
     "duration": 0.004095,
     "end_time": "2023-12-17T14:12:02.700163",
     "exception": false,
     "start_time": "2023-12-17T14:12:02.696068",
     "status": "completed"
    },
    "tags": []
   },
   "source": [
    "### 4. Are there is any missing value in dataset?"
   ]
  },
  {
   "cell_type": "code",
   "execution_count": 6,
   "id": "0f2d4730",
   "metadata": {
    "_cell_guid": "a46e21bf-5531-4f39-9400-b4df3c65c06b",
    "_uuid": "ab246f90-a021-4c3d-ac49-a2845555e65d",
    "collapsed": false,
    "execution": {
     "iopub.execute_input": "2023-12-17T14:12:02.711092Z",
     "iopub.status.busy": "2023-12-17T14:12:02.709940Z",
     "iopub.status.idle": "2023-12-17T14:12:02.718045Z",
     "shell.execute_reply": "2023-12-17T14:12:02.717173Z"
    },
    "jupyter": {
     "outputs_hidden": false
    },
    "papermill": {
     "duration": 0.015408,
     "end_time": "2023-12-17T14:12:02.719801",
     "exception": false,
     "start_time": "2023-12-17T14:12:02.704393",
     "status": "completed"
    },
    "tags": []
   },
   "outputs": [
    {
     "data": {
      "text/plain": [
       "PassengerId      0\n",
       "Survived         0\n",
       "Pclass           0\n",
       "Name             0\n",
       "Sex              0\n",
       "Age            177\n",
       "SibSp            0\n",
       "Parch            0\n",
       "Ticket           0\n",
       "Fare             0\n",
       "Cabin          687\n",
       "Embarked         2\n",
       "dtype: int64"
      ]
     },
     "execution_count": 6,
     "metadata": {},
     "output_type": "execute_result"
    }
   ],
   "source": [
    "df.isnull().sum()"
   ]
  },
  {
   "cell_type": "markdown",
   "id": "3b48d22b",
   "metadata": {
    "_cell_guid": "f194be59-1e57-4e2a-b689-0dd35f40f38f",
    "_uuid": "49472fa1-d7bb-4de1-89d4-1382e9a2f5ba",
    "papermill": {
     "duration": 0.004155,
     "end_time": "2023-12-17T14:12:02.728634",
     "exception": false,
     "start_time": "2023-12-17T14:12:02.724479",
     "status": "completed"
    },
    "tags": []
   },
   "source": [
    "### 5. How does the data look like mathematiclly?"
   ]
  },
  {
   "cell_type": "code",
   "execution_count": 7,
   "id": "5727bda6",
   "metadata": {
    "_cell_guid": "1c98b829-d5ee-4947-95ea-40490995661c",
    "_uuid": "cb246504-0de6-4515-900b-af4f037683cf",
    "collapsed": false,
    "execution": {
     "iopub.execute_input": "2023-12-17T14:12:02.739250Z",
     "iopub.status.busy": "2023-12-17T14:12:02.738886Z",
     "iopub.status.idle": "2023-12-17T14:12:02.768937Z",
     "shell.execute_reply": "2023-12-17T14:12:02.767414Z"
    },
    "jupyter": {
     "outputs_hidden": false
    },
    "papermill": {
     "duration": 0.038041,
     "end_time": "2023-12-17T14:12:02.770976",
     "exception": false,
     "start_time": "2023-12-17T14:12:02.732935",
     "status": "completed"
    },
    "tags": []
   },
   "outputs": [
    {
     "data": {
      "text/html": [
       "<div>\n",
       "<style scoped>\n",
       "    .dataframe tbody tr th:only-of-type {\n",
       "        vertical-align: middle;\n",
       "    }\n",
       "\n",
       "    .dataframe tbody tr th {\n",
       "        vertical-align: top;\n",
       "    }\n",
       "\n",
       "    .dataframe thead th {\n",
       "        text-align: right;\n",
       "    }\n",
       "</style>\n",
       "<table border=\"1\" class=\"dataframe\">\n",
       "  <thead>\n",
       "    <tr style=\"text-align: right;\">\n",
       "      <th></th>\n",
       "      <th>PassengerId</th>\n",
       "      <th>Survived</th>\n",
       "      <th>Pclass</th>\n",
       "      <th>Age</th>\n",
       "      <th>SibSp</th>\n",
       "      <th>Parch</th>\n",
       "      <th>Fare</th>\n",
       "    </tr>\n",
       "  </thead>\n",
       "  <tbody>\n",
       "    <tr>\n",
       "      <th>count</th>\n",
       "      <td>891.000000</td>\n",
       "      <td>891.000000</td>\n",
       "      <td>891.000000</td>\n",
       "      <td>714.000000</td>\n",
       "      <td>891.000000</td>\n",
       "      <td>891.000000</td>\n",
       "      <td>891.000000</td>\n",
       "    </tr>\n",
       "    <tr>\n",
       "      <th>mean</th>\n",
       "      <td>446.000000</td>\n",
       "      <td>0.383838</td>\n",
       "      <td>2.308642</td>\n",
       "      <td>29.699118</td>\n",
       "      <td>0.523008</td>\n",
       "      <td>0.381594</td>\n",
       "      <td>32.204208</td>\n",
       "    </tr>\n",
       "    <tr>\n",
       "      <th>std</th>\n",
       "      <td>257.353842</td>\n",
       "      <td>0.486592</td>\n",
       "      <td>0.836071</td>\n",
       "      <td>14.526497</td>\n",
       "      <td>1.102743</td>\n",
       "      <td>0.806057</td>\n",
       "      <td>49.693429</td>\n",
       "    </tr>\n",
       "    <tr>\n",
       "      <th>min</th>\n",
       "      <td>1.000000</td>\n",
       "      <td>0.000000</td>\n",
       "      <td>1.000000</td>\n",
       "      <td>0.420000</td>\n",
       "      <td>0.000000</td>\n",
       "      <td>0.000000</td>\n",
       "      <td>0.000000</td>\n",
       "    </tr>\n",
       "    <tr>\n",
       "      <th>25%</th>\n",
       "      <td>223.500000</td>\n",
       "      <td>0.000000</td>\n",
       "      <td>2.000000</td>\n",
       "      <td>20.125000</td>\n",
       "      <td>0.000000</td>\n",
       "      <td>0.000000</td>\n",
       "      <td>7.910400</td>\n",
       "    </tr>\n",
       "    <tr>\n",
       "      <th>50%</th>\n",
       "      <td>446.000000</td>\n",
       "      <td>0.000000</td>\n",
       "      <td>3.000000</td>\n",
       "      <td>28.000000</td>\n",
       "      <td>0.000000</td>\n",
       "      <td>0.000000</td>\n",
       "      <td>14.454200</td>\n",
       "    </tr>\n",
       "    <tr>\n",
       "      <th>75%</th>\n",
       "      <td>668.500000</td>\n",
       "      <td>1.000000</td>\n",
       "      <td>3.000000</td>\n",
       "      <td>38.000000</td>\n",
       "      <td>1.000000</td>\n",
       "      <td>0.000000</td>\n",
       "      <td>31.000000</td>\n",
       "    </tr>\n",
       "    <tr>\n",
       "      <th>max</th>\n",
       "      <td>891.000000</td>\n",
       "      <td>1.000000</td>\n",
       "      <td>3.000000</td>\n",
       "      <td>80.000000</td>\n",
       "      <td>8.000000</td>\n",
       "      <td>6.000000</td>\n",
       "      <td>512.329200</td>\n",
       "    </tr>\n",
       "  </tbody>\n",
       "</table>\n",
       "</div>"
      ],
      "text/plain": [
       "       PassengerId    Survived      Pclass         Age       SibSp  \\\n",
       "count   891.000000  891.000000  891.000000  714.000000  891.000000   \n",
       "mean    446.000000    0.383838    2.308642   29.699118    0.523008   \n",
       "std     257.353842    0.486592    0.836071   14.526497    1.102743   \n",
       "min       1.000000    0.000000    1.000000    0.420000    0.000000   \n",
       "25%     223.500000    0.000000    2.000000   20.125000    0.000000   \n",
       "50%     446.000000    0.000000    3.000000   28.000000    0.000000   \n",
       "75%     668.500000    1.000000    3.000000   38.000000    1.000000   \n",
       "max     891.000000    1.000000    3.000000   80.000000    8.000000   \n",
       "\n",
       "            Parch        Fare  \n",
       "count  891.000000  891.000000  \n",
       "mean     0.381594   32.204208  \n",
       "std      0.806057   49.693429  \n",
       "min      0.000000    0.000000  \n",
       "25%      0.000000    7.910400  \n",
       "50%      0.000000   14.454200  \n",
       "75%      0.000000   31.000000  \n",
       "max      6.000000  512.329200  "
      ]
     },
     "execution_count": 7,
     "metadata": {},
     "output_type": "execute_result"
    }
   ],
   "source": [
    "df.describe()"
   ]
  },
  {
   "cell_type": "markdown",
   "id": "d0e26ed9",
   "metadata": {
    "papermill": {
     "duration": 0.004315,
     "end_time": "2023-12-17T14:12:02.780056",
     "exception": false,
     "start_time": "2023-12-17T14:12:02.775741",
     "status": "completed"
    },
    "tags": []
   },
   "source": [
    "### 6. Are there is any dulicate values in data?"
   ]
  },
  {
   "cell_type": "code",
   "execution_count": 8,
   "id": "61cb2f73",
   "metadata": {
    "execution": {
     "iopub.execute_input": "2023-12-17T14:12:02.791335Z",
     "iopub.status.busy": "2023-12-17T14:12:02.790833Z",
     "iopub.status.idle": "2023-12-17T14:12:02.801796Z",
     "shell.execute_reply": "2023-12-17T14:12:02.800479Z"
    },
    "papermill": {
     "duration": 0.019041,
     "end_time": "2023-12-17T14:12:02.803846",
     "exception": false,
     "start_time": "2023-12-17T14:12:02.784805",
     "status": "completed"
    },
    "tags": []
   },
   "outputs": [
    {
     "data": {
      "text/plain": [
       "0"
      ]
     },
     "execution_count": 8,
     "metadata": {},
     "output_type": "execute_result"
    }
   ],
   "source": [
    "df.duplicated().sum()"
   ]
  },
  {
   "cell_type": "markdown",
   "id": "3388d780",
   "metadata": {
    "_cell_guid": "84804c3b-28ed-4900-b631-fe269aa94cf9",
    "_uuid": "0afaa676-0470-4ad2-848e-c790d4ae339f",
    "papermill": {
     "duration": 0.004346,
     "end_time": "2023-12-17T14:12:02.813002",
     "exception": false,
     "start_time": "2023-12-17T14:12:02.808656",
     "status": "completed"
    },
    "tags": []
   },
   "source": [
    "### 7. There is any relation between the data?"
   ]
  },
  {
   "cell_type": "code",
   "execution_count": 9,
   "id": "e143c52a",
   "metadata": {
    "execution": {
     "iopub.execute_input": "2023-12-17T14:12:02.824239Z",
     "iopub.status.busy": "2023-12-17T14:12:02.823926Z",
     "iopub.status.idle": "2023-12-17T14:12:02.840867Z",
     "shell.execute_reply": "2023-12-17T14:12:02.839840Z"
    },
    "papermill": {
     "duration": 0.025477,
     "end_time": "2023-12-17T14:12:02.842997",
     "exception": false,
     "start_time": "2023-12-17T14:12:02.817520",
     "status": "completed"
    },
    "tags": []
   },
   "outputs": [
    {
     "data": {
      "text/html": [
       "<div>\n",
       "<style scoped>\n",
       "    .dataframe tbody tr th:only-of-type {\n",
       "        vertical-align: middle;\n",
       "    }\n",
       "\n",
       "    .dataframe tbody tr th {\n",
       "        vertical-align: top;\n",
       "    }\n",
       "\n",
       "    .dataframe thead th {\n",
       "        text-align: right;\n",
       "    }\n",
       "</style>\n",
       "<table border=\"1\" class=\"dataframe\">\n",
       "  <thead>\n",
       "    <tr style=\"text-align: right;\">\n",
       "      <th></th>\n",
       "      <th>PassengerId</th>\n",
       "      <th>Survived</th>\n",
       "      <th>Pclass</th>\n",
       "      <th>Age</th>\n",
       "      <th>SibSp</th>\n",
       "      <th>Parch</th>\n",
       "      <th>Fare</th>\n",
       "    </tr>\n",
       "  </thead>\n",
       "  <tbody>\n",
       "    <tr>\n",
       "      <th>PassengerId</th>\n",
       "      <td>1.000000</td>\n",
       "      <td>-0.005007</td>\n",
       "      <td>-0.035144</td>\n",
       "      <td>0.036847</td>\n",
       "      <td>-0.057527</td>\n",
       "      <td>-0.001652</td>\n",
       "      <td>0.012658</td>\n",
       "    </tr>\n",
       "    <tr>\n",
       "      <th>Survived</th>\n",
       "      <td>-0.005007</td>\n",
       "      <td>1.000000</td>\n",
       "      <td>-0.338481</td>\n",
       "      <td>-0.077221</td>\n",
       "      <td>-0.035322</td>\n",
       "      <td>0.081629</td>\n",
       "      <td>0.257307</td>\n",
       "    </tr>\n",
       "    <tr>\n",
       "      <th>Pclass</th>\n",
       "      <td>-0.035144</td>\n",
       "      <td>-0.338481</td>\n",
       "      <td>1.000000</td>\n",
       "      <td>-0.369226</td>\n",
       "      <td>0.083081</td>\n",
       "      <td>0.018443</td>\n",
       "      <td>-0.549500</td>\n",
       "    </tr>\n",
       "    <tr>\n",
       "      <th>Age</th>\n",
       "      <td>0.036847</td>\n",
       "      <td>-0.077221</td>\n",
       "      <td>-0.369226</td>\n",
       "      <td>1.000000</td>\n",
       "      <td>-0.308247</td>\n",
       "      <td>-0.189119</td>\n",
       "      <td>0.096067</td>\n",
       "    </tr>\n",
       "    <tr>\n",
       "      <th>SibSp</th>\n",
       "      <td>-0.057527</td>\n",
       "      <td>-0.035322</td>\n",
       "      <td>0.083081</td>\n",
       "      <td>-0.308247</td>\n",
       "      <td>1.000000</td>\n",
       "      <td>0.414838</td>\n",
       "      <td>0.159651</td>\n",
       "    </tr>\n",
       "    <tr>\n",
       "      <th>Parch</th>\n",
       "      <td>-0.001652</td>\n",
       "      <td>0.081629</td>\n",
       "      <td>0.018443</td>\n",
       "      <td>-0.189119</td>\n",
       "      <td>0.414838</td>\n",
       "      <td>1.000000</td>\n",
       "      <td>0.216225</td>\n",
       "    </tr>\n",
       "    <tr>\n",
       "      <th>Fare</th>\n",
       "      <td>0.012658</td>\n",
       "      <td>0.257307</td>\n",
       "      <td>-0.549500</td>\n",
       "      <td>0.096067</td>\n",
       "      <td>0.159651</td>\n",
       "      <td>0.216225</td>\n",
       "      <td>1.000000</td>\n",
       "    </tr>\n",
       "  </tbody>\n",
       "</table>\n",
       "</div>"
      ],
      "text/plain": [
       "             PassengerId  Survived    Pclass       Age     SibSp     Parch  \\\n",
       "PassengerId     1.000000 -0.005007 -0.035144  0.036847 -0.057527 -0.001652   \n",
       "Survived       -0.005007  1.000000 -0.338481 -0.077221 -0.035322  0.081629   \n",
       "Pclass         -0.035144 -0.338481  1.000000 -0.369226  0.083081  0.018443   \n",
       "Age             0.036847 -0.077221 -0.369226  1.000000 -0.308247 -0.189119   \n",
       "SibSp          -0.057527 -0.035322  0.083081 -0.308247  1.000000  0.414838   \n",
       "Parch          -0.001652  0.081629  0.018443 -0.189119  0.414838  1.000000   \n",
       "Fare            0.012658  0.257307 -0.549500  0.096067  0.159651  0.216225   \n",
       "\n",
       "                 Fare  \n",
       "PassengerId  0.012658  \n",
       "Survived     0.257307  \n",
       "Pclass      -0.549500  \n",
       "Age          0.096067  \n",
       "SibSp        0.159651  \n",
       "Parch        0.216225  \n",
       "Fare         1.000000  "
      ]
     },
     "execution_count": 9,
     "metadata": {},
     "output_type": "execute_result"
    }
   ],
   "source": [
    "# df.corr() # pandas version 2.0.0 now you need to add numeric_only=True param to avoid the string\n",
    "df.corr(numeric_only=True)  "
   ]
  }
 ],
 "metadata": {
  "kaggle": {
   "accelerator": "none",
   "dataSources": [
    {
     "databundleVersionId": 26502,
     "sourceId": 3136,
     "sourceType": "competition"
    }
   ],
   "dockerImageVersionId": 30626,
   "isGpuEnabled": false,
   "isInternetEnabled": false,
   "language": "python",
   "sourceType": "notebook"
  },
  "kernelspec": {
   "display_name": "Python 3",
   "language": "python",
   "name": "python3"
  },
  "language_info": {
   "codemirror_mode": {
    "name": "ipython",
    "version": 3
   },
   "file_extension": ".py",
   "mimetype": "text/x-python",
   "name": "python",
   "nbconvert_exporter": "python",
   "pygments_lexer": "ipython3",
   "version": "3.10.12"
  },
  "papermill": {
   "default_parameters": {},
   "duration": 3.667495,
   "end_time": "2023-12-17T14:12:03.268826",
   "environment_variables": {},
   "exception": null,
   "input_path": "__notebook__.ipynb",
   "output_path": "__notebook__.ipynb",
   "parameters": {},
   "start_time": "2023-12-17T14:11:59.601331",
   "version": "2.4.0"
  }
 },
 "nbformat": 4,
 "nbformat_minor": 5
}
